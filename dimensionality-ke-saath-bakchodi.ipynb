{
 "cells": [
  {
   "cell_type": "code",
   "execution_count": 1,
   "id": "d0972e77",
   "metadata": {
    "_cell_guid": "b1076dfc-b9ad-4769-8c92-a6c4dae69d19",
    "_uuid": "8f2839f25d086af736a60e9eeb907d3b93b6e0e5",
    "execution": {
     "iopub.execute_input": "2025-06-09T16:45:48.400149Z",
     "iopub.status.busy": "2025-06-09T16:45:48.399692Z",
     "iopub.status.idle": "2025-06-09T16:45:50.377921Z",
     "shell.execute_reply": "2025-06-09T16:45:50.376759Z"
    },
    "papermill": {
     "duration": 1.986518,
     "end_time": "2025-06-09T16:45:50.379915",
     "exception": false,
     "start_time": "2025-06-09T16:45:48.393397",
     "status": "completed"
    },
    "tags": []
   },
   "outputs": [],
   "source": [
    "# This Python 3 environment comes with many helpful analytics libraries installed\n",
    "# It is defined by the kaggle/python Docker image: https://github.com/kaggle/docker-python\n",
    "# For example, here's several helpful packages to load\n",
    "\n",
    "import numpy as np # linear algebra\n",
    "import pandas as pd # data processing, CSV file I/O (e.g. pd.read_csv)\n",
    "\n",
    "# Input data files are available in the read-only \"../input/\" directory\n",
    "# For example, running this (by clicking run or pressing Shift+Enter) will list all files under the input directory\n",
    "\n",
    "import os\n",
    "for dirname, _, filenames in os.walk('/kaggle/input'):\n",
    "    for filename in filenames:\n",
    "        print(os.path.join(dirname, filename))\n",
    "\n",
    "# You can write up to 20GB to the current directory (/kaggle/working/) that gets preserved as output when you create a version using \"Save & Run All\" \n",
    "# You can also write temporary files to /kaggle/temp/, but they won't be saved outside of the current session"
   ]
  },
  {
   "cell_type": "code",
   "execution_count": 2,
   "id": "8cb2b03b",
   "metadata": {
    "execution": {
     "iopub.execute_input": "2025-06-09T16:45:50.390544Z",
     "iopub.status.busy": "2025-06-09T16:45:50.390053Z",
     "iopub.status.idle": "2025-06-09T16:45:51.952304Z",
     "shell.execute_reply": "2025-06-09T16:45:51.951124Z"
    },
    "papermill": {
     "duration": 1.56955,
     "end_time": "2025-06-09T16:45:51.954171",
     "exception": false,
     "start_time": "2025-06-09T16:45:50.384621",
     "status": "completed"
    },
    "tags": []
   },
   "outputs": [],
   "source": [
    "# Python ≥3.5 is required\n",
    "import sys\n",
    "assert sys.version_info >= (3, 5)\n",
    "\n",
    "# Scikit-Learn ≥0.20 is required\n",
    "import sklearn\n",
    "assert sklearn.__version__ >= \"0.20\"\n",
    "\n",
    "# Common imports\n",
    "import numpy as np\n",
    "import os\n",
    "\n",
    "# to make this notebook's output stable across runs\n",
    "np.random.seed(42)\n",
    "\n",
    "# To plot pretty figures\n",
    "%matplotlib inline\n",
    "import matplotlib as mpl\n",
    "import matplotlib.pyplot as plt\n",
    "mpl.rc('axes', labelsize=14)\n",
    "mpl.rc('xtick', labelsize=12)\n",
    "mpl.rc('ytick', labelsize=12)\n",
    "\n",
    "# Where to save the figures\n",
    "PROJECT_ROOT_DIR = \".\"\n",
    "CHAPTER_ID = \"dim_reduction\"\n",
    "IMAGES_PATH = os.path.join(PROJECT_ROOT_DIR, \"images\", CHAPTER_ID)\n",
    "os.makedirs(IMAGES_PATH, exist_ok=True)\n",
    "\n",
    "def save_fig(fig_id, tight_layout=True, fig_extension=\"png\", resolution=300):\n",
    "    path = os.path.join(IMAGES_PATH, fig_id + \".\" + fig_extension)\n",
    "    print(\"Saving figure\", fig_id)\n",
    "    if tight_layout:\n",
    "        plt.tight_layout()\n",
    "    plt.savefig(path, format=fig_extension, dpi=resolution)"
   ]
  },
  {
   "cell_type": "code",
   "execution_count": 3,
   "id": "b64dfeb5",
   "metadata": {
    "execution": {
     "iopub.execute_input": "2025-06-09T16:45:51.964520Z",
     "iopub.status.busy": "2025-06-09T16:45:51.963895Z",
     "iopub.status.idle": "2025-06-09T16:45:51.980614Z",
     "shell.execute_reply": "2025-06-09T16:45:51.979465Z"
    },
    "papermill": {
     "duration": 0.024,
     "end_time": "2025-06-09T16:45:51.982650",
     "exception": false,
     "start_time": "2025-06-09T16:45:51.958650",
     "status": "completed"
    },
    "tags": []
   },
   "outputs": [],
   "source": [
    "np.random.seed(4)\n",
    "m = 60\n",
    "w1, w2 = 0.1, 0.3\n",
    "noise = 0.1\n",
    "angles = np.random.rand(m)*3*np.pi/2 - 0.5\n",
    "X = np.empty((m,3))\n",
    "X[:,0] = np.cos(angles) + np.sin(angles)/2 + noise * np.random.rand(m)/2\n",
    "X[:,1] = np.sin(angles)*0.7 + noise*np.random.rand(m)/2\n",
    "X[:,2] = X[:,0]*w1 + X[:,1]*w2 + noise*np.random.rand(m)/2"
   ]
  },
  {
   "cell_type": "code",
   "execution_count": 4,
   "id": "8f2923b8",
   "metadata": {
    "execution": {
     "iopub.execute_input": "2025-06-09T16:45:51.993839Z",
     "iopub.status.busy": "2025-06-09T16:45:51.993368Z",
     "iopub.status.idle": "2025-06-09T16:45:52.058204Z",
     "shell.execute_reply": "2025-06-09T16:45:52.057179Z"
    },
    "papermill": {
     "duration": 0.072996,
     "end_time": "2025-06-09T16:45:52.060021",
     "exception": false,
     "start_time": "2025-06-09T16:45:51.987025",
     "status": "completed"
    },
    "tags": []
   },
   "outputs": [],
   "source": [
    "X_centered = X - X.mean(axis = 0)\n",
    "U,s,Vt = np.linalg.svd(X_centered)\n",
    "c1 = Vt.T[:,0]\n",
    "c2 = Vt.T[:,1]\n"
   ]
  },
  {
   "cell_type": "code",
   "execution_count": 5,
   "id": "db6215b1",
   "metadata": {
    "execution": {
     "iopub.execute_input": "2025-06-09T16:45:52.070016Z",
     "iopub.status.busy": "2025-06-09T16:45:52.069614Z",
     "iopub.status.idle": "2025-06-09T16:45:52.076084Z",
     "shell.execute_reply": "2025-06-09T16:45:52.074721Z"
    },
    "papermill": {
     "duration": 0.013927,
     "end_time": "2025-06-09T16:45:52.078148",
     "exception": false,
     "start_time": "2025-06-09T16:45:52.064221",
     "status": "completed"
    },
    "tags": []
   },
   "outputs": [],
   "source": [
    "m,n = X.shape\n",
    "S = np.zeros(X_centered.shape)\n",
    "S[:n,:n] = np.diag(s)\n"
   ]
  },
  {
   "cell_type": "code",
   "execution_count": 6,
   "id": "73bbc43f",
   "metadata": {
    "execution": {
     "iopub.execute_input": "2025-06-09T16:45:52.095041Z",
     "iopub.status.busy": "2025-06-09T16:45:52.094505Z",
     "iopub.status.idle": "2025-06-09T16:45:52.105775Z",
     "shell.execute_reply": "2025-06-09T16:45:52.104618Z"
    },
    "papermill": {
     "duration": 0.023331,
     "end_time": "2025-06-09T16:45:52.108847",
     "exception": false,
     "start_time": "2025-06-09T16:45:52.085516",
     "status": "completed"
    },
    "tags": []
   },
   "outputs": [
    {
     "data": {
      "text/plain": [
       "True"
      ]
     },
     "execution_count": 6,
     "metadata": {},
     "output_type": "execute_result"
    }
   ],
   "source": [
    "np.allclose(X_centered, U.dot(S).dot(Vt))"
   ]
  },
  {
   "cell_type": "code",
   "execution_count": 7,
   "id": "a99a64e0",
   "metadata": {
    "execution": {
     "iopub.execute_input": "2025-06-09T16:45:52.122925Z",
     "iopub.status.busy": "2025-06-09T16:45:52.122603Z",
     "iopub.status.idle": "2025-06-09T16:45:52.128395Z",
     "shell.execute_reply": "2025-06-09T16:45:52.127360Z"
    },
    "papermill": {
     "duration": 0.015114,
     "end_time": "2025-06-09T16:45:52.130743",
     "exception": false,
     "start_time": "2025-06-09T16:45:52.115629",
     "status": "completed"
    },
    "tags": []
   },
   "outputs": [],
   "source": [
    "W2 = Vt.T[:,:2]\n",
    "X2D = X_centered.dot(W2)"
   ]
  },
  {
   "cell_type": "code",
   "execution_count": 8,
   "id": "b49b8e4e",
   "metadata": {
    "execution": {
     "iopub.execute_input": "2025-06-09T16:45:52.147587Z",
     "iopub.status.busy": "2025-06-09T16:45:52.146126Z",
     "iopub.status.idle": "2025-06-09T16:45:52.152736Z",
     "shell.execute_reply": "2025-06-09T16:45:52.151711Z"
    },
    "papermill": {
     "duration": 0.015679,
     "end_time": "2025-06-09T16:45:52.154281",
     "exception": false,
     "start_time": "2025-06-09T16:45:52.138602",
     "status": "completed"
    },
    "tags": []
   },
   "outputs": [],
   "source": [
    "X2D_using_svd = X2D"
   ]
  },
  {
   "cell_type": "code",
   "execution_count": 9,
   "id": "0f7fadf7",
   "metadata": {
    "execution": {
     "iopub.execute_input": "2025-06-09T16:45:52.170595Z",
     "iopub.status.busy": "2025-06-09T16:45:52.170199Z",
     "iopub.status.idle": "2025-06-09T16:45:52.562344Z",
     "shell.execute_reply": "2025-06-09T16:45:52.561463Z"
    },
    "papermill": {
     "duration": 0.402295,
     "end_time": "2025-06-09T16:45:52.564159",
     "exception": false,
     "start_time": "2025-06-09T16:45:52.161864",
     "status": "completed"
    },
    "tags": []
   },
   "outputs": [],
   "source": [
    "from sklearn.decomposition import PCA\n",
    "pca = PCA(n_components = 2)\n",
    "X2D = pca.fit_transform(X)"
   ]
  },
  {
   "cell_type": "code",
   "execution_count": 10,
   "id": "d8c16f8c",
   "metadata": {
    "execution": {
     "iopub.execute_input": "2025-06-09T16:45:52.573866Z",
     "iopub.status.busy": "2025-06-09T16:45:52.573572Z",
     "iopub.status.idle": "2025-06-09T16:45:52.580515Z",
     "shell.execute_reply": "2025-06-09T16:45:52.579292Z"
    },
    "papermill": {
     "duration": 0.01366,
     "end_time": "2025-06-09T16:45:52.582203",
     "exception": false,
     "start_time": "2025-06-09T16:45:52.568543",
     "status": "completed"
    },
    "tags": []
   },
   "outputs": [
    {
     "data": {
      "text/plain": [
       "array([[ 1.24087913,  0.43339897],\n",
       "       [-0.07624178, -0.42706531],\n",
       "       [ 1.25513316,  0.42643227],\n",
       "       [ 0.80474595, -0.27343491],\n",
       "       [ 0.70854873, -0.30585381]])"
      ]
     },
     "execution_count": 10,
     "metadata": {},
     "output_type": "execute_result"
    }
   ],
   "source": [
    "X2D[:5]"
   ]
  },
  {
   "cell_type": "code",
   "execution_count": 11,
   "id": "99904f71",
   "metadata": {
    "execution": {
     "iopub.execute_input": "2025-06-09T16:45:52.592859Z",
     "iopub.status.busy": "2025-06-09T16:45:52.592518Z",
     "iopub.status.idle": "2025-06-09T16:45:52.599115Z",
     "shell.execute_reply": "2025-06-09T16:45:52.597856Z"
    },
    "papermill": {
     "duration": 0.014683,
     "end_time": "2025-06-09T16:45:52.601384",
     "exception": false,
     "start_time": "2025-06-09T16:45:52.586701",
     "status": "completed"
    },
    "tags": []
   },
   "outputs": [
    {
     "data": {
      "text/plain": [
       "array([[-1.24087913, -0.43339897],\n",
       "       [ 0.07624178,  0.42706531],\n",
       "       [-1.25513316, -0.42643227],\n",
       "       [-0.80474595,  0.27343491],\n",
       "       [-0.70854873,  0.30585381]])"
      ]
     },
     "execution_count": 11,
     "metadata": {},
     "output_type": "execute_result"
    }
   ],
   "source": [
    "X2D_using_svd[:5]"
   ]
  },
  {
   "cell_type": "code",
   "execution_count": 12,
   "id": "6910dfbf",
   "metadata": {
    "execution": {
     "iopub.execute_input": "2025-06-09T16:45:52.615994Z",
     "iopub.status.busy": "2025-06-09T16:45:52.615468Z",
     "iopub.status.idle": "2025-06-09T16:45:52.623083Z",
     "shell.execute_reply": "2025-06-09T16:45:52.621516Z"
    },
    "papermill": {
     "duration": 0.017357,
     "end_time": "2025-06-09T16:45:52.625247",
     "exception": false,
     "start_time": "2025-06-09T16:45:52.607890",
     "status": "completed"
    },
    "tags": []
   },
   "outputs": [
    {
     "data": {
      "text/plain": [
       "True"
      ]
     },
     "execution_count": 12,
     "metadata": {},
     "output_type": "execute_result"
    }
   ],
   "source": [
    "np.allclose(X2D, -X2D_using_svd)"
   ]
  },
  {
   "cell_type": "code",
   "execution_count": 13,
   "id": "d713a008",
   "metadata": {
    "execution": {
     "iopub.execute_input": "2025-06-09T16:45:52.637712Z",
     "iopub.status.busy": "2025-06-09T16:45:52.637194Z",
     "iopub.status.idle": "2025-06-09T16:45:52.643593Z",
     "shell.execute_reply": "2025-06-09T16:45:52.642702Z"
    },
    "papermill": {
     "duration": 0.015355,
     "end_time": "2025-06-09T16:45:52.645392",
     "exception": false,
     "start_time": "2025-06-09T16:45:52.630037",
     "status": "completed"
    },
    "tags": []
   },
   "outputs": [],
   "source": [
    "X3D_inv= pca.inverse_transform(X2D)"
   ]
  },
  {
   "cell_type": "code",
   "execution_count": 14,
   "id": "83a2a16f",
   "metadata": {
    "execution": {
     "iopub.execute_input": "2025-06-09T16:45:52.657911Z",
     "iopub.status.busy": "2025-06-09T16:45:52.657611Z",
     "iopub.status.idle": "2025-06-09T16:45:52.663466Z",
     "shell.execute_reply": "2025-06-09T16:45:52.662587Z"
    },
    "papermill": {
     "duration": 0.014888,
     "end_time": "2025-06-09T16:45:52.665088",
     "exception": false,
     "start_time": "2025-06-09T16:45:52.650200",
     "status": "completed"
    },
    "tags": []
   },
   "outputs": [
    {
     "data": {
      "text/plain": [
       "False"
      ]
     },
     "execution_count": 14,
     "metadata": {},
     "output_type": "execute_result"
    }
   ],
   "source": [
    "np.allclose(X3D_inv, X)"
   ]
  },
  {
   "cell_type": "code",
   "execution_count": 15,
   "id": "a99d343b",
   "metadata": {
    "execution": {
     "iopub.execute_input": "2025-06-09T16:45:52.675520Z",
     "iopub.status.busy": "2025-06-09T16:45:52.675142Z",
     "iopub.status.idle": "2025-06-09T16:45:52.682121Z",
     "shell.execute_reply": "2025-06-09T16:45:52.681035Z"
    },
    "papermill": {
     "duration": 0.013939,
     "end_time": "2025-06-09T16:45:52.683728",
     "exception": false,
     "start_time": "2025-06-09T16:45:52.669789",
     "status": "completed"
    },
    "tags": []
   },
   "outputs": [
    {
     "data": {
      "text/plain": [
       "0.00019072785603884494"
      ]
     },
     "execution_count": 15,
     "metadata": {},
     "output_type": "execute_result"
    }
   ],
   "source": [
    "np.mean(np.sum((np.square(X3D_inv - X)), axis = 1))"
   ]
  },
  {
   "cell_type": "code",
   "execution_count": 16,
   "id": "90da4d92",
   "metadata": {
    "execution": {
     "iopub.execute_input": "2025-06-09T16:45:52.694556Z",
     "iopub.status.busy": "2025-06-09T16:45:52.694238Z",
     "iopub.status.idle": "2025-06-09T16:45:52.698844Z",
     "shell.execute_reply": "2025-06-09T16:45:52.698052Z"
    },
    "papermill": {
     "duration": 0.011755,
     "end_time": "2025-06-09T16:45:52.700318",
     "exception": false,
     "start_time": "2025-06-09T16:45:52.688563",
     "status": "completed"
    },
    "tags": []
   },
   "outputs": [],
   "source": [
    "X3D_inv_using_svd = X2D_using_svd.dot(Vt[:2,:])\n"
   ]
  },
  {
   "cell_type": "code",
   "execution_count": 17,
   "id": "532250cc",
   "metadata": {
    "execution": {
     "iopub.execute_input": "2025-06-09T16:45:52.711229Z",
     "iopub.status.busy": "2025-06-09T16:45:52.710808Z",
     "iopub.status.idle": "2025-06-09T16:45:52.716984Z",
     "shell.execute_reply": "2025-06-09T16:45:52.716083Z"
    },
    "papermill": {
     "duration": 0.013399,
     "end_time": "2025-06-09T16:45:52.718486",
     "exception": false,
     "start_time": "2025-06-09T16:45:52.705087",
     "status": "completed"
    },
    "tags": []
   },
   "outputs": [
    {
     "data": {
      "text/plain": [
       "True"
      ]
     },
     "execution_count": 17,
     "metadata": {},
     "output_type": "execute_result"
    }
   ],
   "source": [
    "np.allclose(X3D_inv_using_svd, X3D_inv - pca.mean_)"
   ]
  },
  {
   "cell_type": "code",
   "execution_count": 18,
   "id": "2b52fb16",
   "metadata": {
    "execution": {
     "iopub.execute_input": "2025-06-09T16:45:52.729787Z",
     "iopub.status.busy": "2025-06-09T16:45:52.729475Z",
     "iopub.status.idle": "2025-06-09T16:45:52.735534Z",
     "shell.execute_reply": "2025-06-09T16:45:52.734355Z"
    },
    "papermill": {
     "duration": 0.013665,
     "end_time": "2025-06-09T16:45:52.737001",
     "exception": false,
     "start_time": "2025-06-09T16:45:52.723336",
     "status": "completed"
    },
    "tags": []
   },
   "outputs": [
    {
     "data": {
      "text/plain": [
       "array([[-0.93338176, -0.30593723, -0.18761903],\n",
       "       [ 0.34614138, -0.90549766, -0.2454794 ]])"
      ]
     },
     "execution_count": 18,
     "metadata": {},
     "output_type": "execute_result"
    }
   ],
   "source": [
    "pca.components_"
   ]
  },
  {
   "cell_type": "code",
   "execution_count": 19,
   "id": "6dba25be",
   "metadata": {
    "execution": {
     "iopub.execute_input": "2025-06-09T16:45:52.747880Z",
     "iopub.status.busy": "2025-06-09T16:45:52.747589Z",
     "iopub.status.idle": "2025-06-09T16:45:52.754194Z",
     "shell.execute_reply": "2025-06-09T16:45:52.752854Z"
    },
    "papermill": {
     "duration": 0.013916,
     "end_time": "2025-06-09T16:45:52.755779",
     "exception": false,
     "start_time": "2025-06-09T16:45:52.741863",
     "status": "completed"
    },
    "tags": []
   },
   "outputs": [
    {
     "data": {
      "text/plain": [
       "array([[ 0.93338176,  0.30593723,  0.18761903],\n",
       "       [-0.34614138,  0.90549766,  0.2454794 ]])"
      ]
     },
     "execution_count": 19,
     "metadata": {},
     "output_type": "execute_result"
    }
   ],
   "source": [
    "Vt[:2]"
   ]
  },
  {
   "cell_type": "code",
   "execution_count": 20,
   "id": "6636f2d0",
   "metadata": {
    "execution": {
     "iopub.execute_input": "2025-06-09T16:45:52.766919Z",
     "iopub.status.busy": "2025-06-09T16:45:52.766629Z",
     "iopub.status.idle": "2025-06-09T16:45:52.772499Z",
     "shell.execute_reply": "2025-06-09T16:45:52.771683Z"
    },
    "papermill": {
     "duration": 0.01335,
     "end_time": "2025-06-09T16:45:52.774184",
     "exception": false,
     "start_time": "2025-06-09T16:45:52.760834",
     "status": "completed"
    },
    "tags": []
   },
   "outputs": [
    {
     "data": {
      "text/plain": [
       "array([0.85444597, 0.14534558])"
      ]
     },
     "execution_count": 20,
     "metadata": {},
     "output_type": "execute_result"
    }
   ],
   "source": [
    "pca.explained_variance_ratio_"
   ]
  },
  {
   "cell_type": "code",
   "execution_count": 21,
   "id": "87c3a75b",
   "metadata": {
    "execution": {
     "iopub.execute_input": "2025-06-09T16:45:52.786085Z",
     "iopub.status.busy": "2025-06-09T16:45:52.785784Z",
     "iopub.status.idle": "2025-06-09T16:45:52.791501Z",
     "shell.execute_reply": "2025-06-09T16:45:52.790669Z"
    },
    "papermill": {
     "duration": 0.012945,
     "end_time": "2025-06-09T16:45:52.792937",
     "exception": false,
     "start_time": "2025-06-09T16:45:52.779992",
     "status": "completed"
    },
    "tags": []
   },
   "outputs": [
    {
     "data": {
      "text/plain": [
       "0.00020844637431127744"
      ]
     },
     "execution_count": 21,
     "metadata": {},
     "output_type": "execute_result"
    }
   ],
   "source": [
    "1 - pca.explained_variance_ratio_.sum()"
   ]
  },
  {
   "cell_type": "code",
   "execution_count": 22,
   "id": "cfe4a3c4",
   "metadata": {
    "execution": {
     "iopub.execute_input": "2025-06-09T16:45:52.804257Z",
     "iopub.status.busy": "2025-06-09T16:45:52.803961Z",
     "iopub.status.idle": "2025-06-09T16:45:52.810727Z",
     "shell.execute_reply": "2025-06-09T16:45:52.809730Z"
    },
    "papermill": {
     "duration": 0.014455,
     "end_time": "2025-06-09T16:45:52.812510",
     "exception": false,
     "start_time": "2025-06-09T16:45:52.798055",
     "status": "completed"
    },
    "tags": []
   },
   "outputs": [
    {
     "data": {
      "text/plain": [
       "array([8.54445969e-01, 1.45345585e-01, 2.08446374e-04])"
      ]
     },
     "execution_count": 22,
     "metadata": {},
     "output_type": "execute_result"
    }
   ],
   "source": [
    "np.square(s)/np.square(s).sum()"
   ]
  },
  {
   "cell_type": "code",
   "execution_count": null,
   "id": "452a2855",
   "metadata": {
    "papermill": {
     "duration": 0.005418,
     "end_time": "2025-06-09T16:45:52.824057",
     "exception": false,
     "start_time": "2025-06-09T16:45:52.818639",
     "status": "completed"
    },
    "tags": []
   },
   "outputs": [],
   "source": []
  }
 ],
 "metadata": {
  "kaggle": {
   "accelerator": "none",
   "dataSources": [],
   "dockerImageVersionId": 31040,
   "isGpuEnabled": false,
   "isInternetEnabled": true,
   "language": "python",
   "sourceType": "notebook"
  },
  "kernelspec": {
   "display_name": "Python 3",
   "language": "python",
   "name": "python3"
  },
  "language_info": {
   "codemirror_mode": {
    "name": "ipython",
    "version": 3
   },
   "file_extension": ".py",
   "mimetype": "text/x-python",
   "name": "python",
   "nbconvert_exporter": "python",
   "pygments_lexer": "ipython3",
   "version": "3.11.11"
  },
  "papermill": {
   "default_parameters": {},
   "duration": 10.103169,
   "end_time": "2025-06-09T16:45:53.549972",
   "environment_variables": {},
   "exception": null,
   "input_path": "__notebook__.ipynb",
   "output_path": "__notebook__.ipynb",
   "parameters": {},
   "start_time": "2025-06-09T16:45:43.446803",
   "version": "2.6.0"
  }
 },
 "nbformat": 4,
 "nbformat_minor": 5
}
